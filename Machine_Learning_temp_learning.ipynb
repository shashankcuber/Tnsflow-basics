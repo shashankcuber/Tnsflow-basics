{
  "nbformat": 4,
  "nbformat_minor": 0,
  "metadata": {
    "colab": {
      "name": "Machine Learning temp learning.ipynb",
      "version": "0.3.2",
      "provenance": [],
      "include_colab_link": true
    },
    "kernelspec": {
      "name": "python3",
      "display_name": "Python 3"
    },
    "accelerator": "GPU"
  },
  "cells": [
    {
      "cell_type": "markdown",
      "metadata": {
        "id": "view-in-github",
        "colab_type": "text"
      },
      "source": [
        "<a href=\"https://colab.research.google.com/github/shashankcuber/Tnsflow-basics/blob/master/Machine_Learning_temp_learning.ipynb\" target=\"_parent\"><img src=\"https://colab.research.google.com/assets/colab-badge.svg\" alt=\"Open In Colab\"/></a>"
      ]
    },
    {
      "cell_type": "code",
      "metadata": {
        "id": "7YiMp2gH00Ks",
        "colab_type": "code",
        "colab": {
          "base_uri": "https://localhost:8080/",
          "height": 335
        },
        "outputId": "cf44d5e3-fbef-47f7-a19b-6bc8074f164d"
      },
      "source": [
        "import tensorflow as tf\n",
        "tf.logging.set_verbosity(tf.logging.ERROR)\n",
        "\n",
        "import numpy as np\n",
        "import matplotlib.pyplot as plt\n",
        "\n",
        "#data for celsius and corresponding farhenhite\n",
        "#input that are features\n",
        "cel=np.array([-40,-10,0,8,15,22,38],dtype=float)\n",
        "#output are the labels\n",
        "far=np.array([-40,14,32,46,59,72,100],dtype=float)\n",
        "\n",
        "#create the model\n",
        "#building the layer\n",
        "\n",
        "#Assembling layer to model\n",
        "#using sequential model to input layers to determine the sequence\n",
        "#of calculation from input to output\n",
        "model=tf.keras.Sequential([tf.keras.layers.Dense(units=1 , input_shape=[1])\n",
        "])\n",
        "\n",
        "#compiling the model\n",
        "#cost/loss function\n",
        "#optimiser\n",
        "model.compile(loss='mean_squared_error',optimizer=tf.keras.optimizers.Adam(0.1))\n",
        "\n",
        "#train the model\n",
        "#epoch =500 so it will train 3500 examples as input data is of 7 size\n",
        "history=model.fit(cel,far,epochs=500,verbose=False)\n",
        "print(\"Finish Training\")\n",
        "\n",
        "plt.xlabel('epoch')\n",
        "plt.ylabel('Loss')\n",
        "plt.plot(history.history['loss'])\n",
        "\n",
        "#predict the temperature after training the model\n",
        "print(model.predict([100.0]))\n",
        "\n",
        "#deeing the layered weights\n",
        "print('These are the layer variables: {}'.format(lo.get_weights()))"
      ],
      "execution_count": 21,
      "outputs": [
        {
          "output_type": "stream",
          "text": [
            "Finish Training\n",
            "[[211.31165]]\n",
            "These are the layer variables: []\n"
          ],
          "name": "stdout"
        },
        {
          "output_type": "display_data",
          "data": {
            "image/png": "[encoded data removed]",
            "text/plain": [
              "<Figure size 432x288 with 1 Axes>"
            ]
          },
          "metadata": {
            "tags": []
          }
        }
      ]
    }
  ]
}