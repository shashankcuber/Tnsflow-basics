{
  "nbformat": 4,
  "nbformat_minor": 0,
  "metadata": {
    "colab": {
      "name": "N armed bandit problem",
      "version": "0.3.2",
      "provenance": [],
      "collapsed_sections": [],
      "include_colab_link": true
    },
    "kernelspec": {
      "name": "python3",
      "display_name": "Python 3"
    }
  },
  "cells": [
    {
      "cell_type": "markdown",
      "metadata": {
        "id": "view-in-github",
        "colab_type": "text"
      },
      "source": [
        "<a href=\"https://colab.research.google.com/github/shashankcuber/Tnsflow-basics/blob/master/N_armed_bandit_problem.ipynb\" target=\"_parent\"><img src=\"https://colab.research.google.com/assets/colab-badge.svg\" alt=\"Open In Colab\"/></a>"
      ]
    },
    {
      "cell_type": "code",
      "metadata": {
        "id": "MGHsraDApNYf",
        "colab_type": "code",
        "colab": {}
      },
      "source": [
        "#importing the necessary libraries\n",
        "\n",
        "import numpy as np\n",
        "import random\n",
        "import matplotlib.pyplot as plt\n",
        "\n",
        "np.random.seed(5)"
      ],
      "execution_count": 0,
      "outputs": []
    },
    {
      "cell_type": "code",
      "metadata": {
        "id": "fDWp18mcqO4t",
        "colab_type": "code",
        "outputId": "28ff65e0-6c4f-412a-9f2e-5c3158cd959e",
        "colab": {
          "base_uri": "https://localhost:8080/",
          "height": 35
        }
      },
      "source": [
        "#declare no. of arms or lottery machine\n",
        "n=2 #10 armed bandit\n",
        "\n",
        "#array filled with random floating values that describes the probability\n",
        "#of action of that arm\n",
        "arms=np.random.rand(n)\n",
        "print(arms)\n",
        "eps=0.1 #probability of action to be chosen(exploration)\n"
      ],
      "execution_count": 0,
      "outputs": [
        {
          "output_type": "stream",
          "text": [
            "[0.27408646 0.41423502]\n"
          ],
          "name": "stdout"
        }
      ]
    },
    {
      "cell_type": "code",
      "metadata": {
        "id": "50iBk1u6rAYY",
        "colab_type": "code",
        "colab": {}
      },
      "source": [
        "#reward function\n",
        "#we generate a random float value and check if its less than the prob \n",
        "#of that arm\n",
        "#if the conditon is true we increment the reward by 1 \n",
        "#Why 1 is added think?\n",
        "def reward(prob):\n",
        "  reward=0\n",
        "  for i in range(10):\n",
        "    if random.random()<prob:\n",
        "      reward+=1\n",
        "  return reward\n"
      ],
      "execution_count": 0,
      "outputs": []
    },
    {
      "cell_type": "code",
      "metadata": {
        "id": "YBav0XbIux9g",
        "colab_type": "code",
        "outputId": "6f7bdb1b-b20f-449b-c755-2263eee6c28c",
        "colab": {
          "base_uri": "https://localhost:8080/",
          "height": 52
        }
      },
      "source": [
        "#initialise the memory array for action value\n",
        "av=np.array([np.random.randint(0,n+1),0]).reshape(1,2)\n",
        "#av=np.append(av,[[1,3]],axis=0)\n",
        "print (av)"
      ],
      "execution_count": 0,
      "outputs": [
        {
          "output_type": "stream",
          "text": [
            "[[2 0]\n",
            " [1 3]]\n"
          ],
          "name": "stdout"
        }
      ]
    },
    {
      "cell_type": "code",
      "metadata": {
        "id": "ObqO7r9FwWFe",
        "colab_type": "code",
        "colab": {}
      },
      "source": [
        "#greedy method to select the best arm\n",
        "\n",
        "def bestarm(a):\n",
        "  bestarm=0\n",
        "  bestmean=0\n",
        "  \n",
        "  for u in a:\n",
        "    #caluclating the mean reward for each action\n",
        "    #print(u[0])\n",
        "    #print(np.where(a[:,0]==u[0]))\n",
        "    avg=np.mean(a[np.where(a[:,0]==u[0])][:,1])\n",
        "    \n",
        "    if(bestmean<avg):\n",
        "      bestmean=avg\n",
        "      bestarm=u[0]\n",
        "        \n",
        "  return bestarm\n",
        "\n",
        "\n",
        "#print(bestarm(av)) "
      ],
      "execution_count": 0,
      "outputs": []
    },
    {
      "cell_type": "code",
      "metadata": {
        "id": "P_Oy_RK1yZcc",
        "colab_type": "code",
        "outputId": "92b85b2b-e19c-4693-8731-0d2bdb66ec54",
        "colab": {
          "base_uri": "https://localhost:8080/",
          "height": 1843
        }
      },
      "source": [
        "#plotting the main loop to determine the best mean reward against the no. of times the game is played\n",
        "\n",
        "plt.xlabel(\"Games played\")\n",
        "plt.ylabel(\"Mean Reward\")\n",
        "\n",
        "for i in range(500):\n",
        "  #greedy exploitation\n",
        "  if random.random()> eps: \n",
        "    choice=bestarm(av)\n",
        "    thisav=np.array([[choice,reward(arms[choice])]])\n",
        "    av=np.concatenate((av,thisav),axis=0)\n",
        "  \n",
        "  else: #greedy exploration\n",
        "    print(np.random.choice(arms))\n",
        "    choice=np.where(arms==np.random.choice(arms))[0][0]\n",
        "    print(choice)\n",
        "    thisav=np.array([[choice,reward(arms[choice])]])\n",
        "    av=np.concatenate((av,thisav),axis=0)\n",
        "  #calculating the mean\n",
        "  runningmean=np.mean(av[:,1])\n",
        "  plt.scatter(i,runningmean)"
      ],
      "execution_count": 0,
      "outputs": [
        {
          "output_type": "stream",
          "text": [
            "0.27408646199222464\n",
            "1\n",
            "0.4142350190810513\n",
            "1\n",
            "0.27408646199222464\n",
            "0\n",
            "0.4142350190810513\n",
            "1\n",
            "0.4142350190810513\n",
            "0\n",
            "0.27408646199222464\n",
            "0\n",
            "0.27408646199222464\n",
            "0\n",
            "0.4142350190810513\n",
            "1\n",
            "0.27408646199222464\n",
            "1\n",
            "0.4142350190810513\n",
            "1\n",
            "0.27408646199222464\n",
            "0\n",
            "0.4142350190810513\n",
            "0\n",
            "0.4142350190810513\n",
            "0\n",
            "0.27408646199222464\n",
            "1\n",
            "0.27408646199222464\n",
            "0\n",
            "0.27408646199222464\n",
            "1\n",
            "0.27408646199222464\n",
            "1\n",
            "0.4142350190810513\n",
            "0\n",
            "0.4142350190810513\n",
            "0\n",
            "0.27408646199222464\n",
            "1\n",
            "0.4142350190810513\n",
            "1\n",
            "0.27408646199222464\n",
            "1\n",
            "0.4142350190810513\n",
            "1\n",
            "0.27408646199222464\n",
            "1\n",
            "0.27408646199222464\n",
            "0\n",
            "0.27408646199222464\n",
            "1\n",
            "0.27408646199222464\n",
            "0\n",
            "0.4142350190810513\n",
            "1\n",
            "0.4142350190810513\n",
            "0\n",
            "0.4142350190810513\n",
            "1\n",
            "0.27408646199222464\n",
            "1\n",
            "0.4142350190810513\n",
            "0\n",
            "0.4142350190810513\n",
            "1\n",
            "0.4142350190810513\n",
            "1\n",
            "0.4142350190810513\n",
            "1\n",
            "0.27408646199222464\n",
            "0\n",
            "0.4142350190810513\n",
            "0\n",
            "0.27408646199222464\n",
            "1\n",
            "0.4142350190810513\n",
            "0\n",
            "0.4142350190810513\n",
            "0\n",
            "0.4142350190810513\n",
            "1\n",
            "0.4142350190810513\n",
            "0\n",
            "0.4142350190810513\n",
            "1\n",
            "0.4142350190810513\n",
            "0\n",
            "0.4142350190810513\n",
            "1\n"
          ],
          "name": "stdout"
        },
        {
          "output_type": "display_data",
          "data": {
            "image/png": "[encoded data removed]",
            "text/plain": [
              "<Figure size 432x288 with 1 Axes>"
            ]
          },
          "metadata": {
            "tags": []
          }
        }
      ]
    }
  ]
}